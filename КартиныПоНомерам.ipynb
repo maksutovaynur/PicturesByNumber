{
 "cells": [
  {
   "cell_type": "markdown",
   "metadata": {},
   "source": [
    "# Картины по номерам\n",
    "## Старт здесь\n",
    "### Ткни на эту ячейку, и нажимай Shift-Enter для предвижения вниз"
   ]
  },
  {
   "cell_type": "markdown",
   "metadata": {},
   "source": [
    "### Импортируем библиотеки"
   ]
  },
  {
   "cell_type": "code",
   "execution_count": 15,
   "metadata": {},
   "outputs": [
    {
     "data": {
      "text/html": [
       "<style>.container { width:100% !important; }</style>"
      ],
      "text/plain": [
       "<IPython.core.display.HTML object>"
      ]
     },
     "metadata": {},
     "output_type": "display_data"
    }
   ],
   "source": [
    "from IPython.core.display import display as изобразить, HTML\n",
    "изобразить(HTML(\"<style>.container { width:100% !important; }</style>\"))\n",
    "import PIL as P\n",
    "import sklearn as S\n",
    "import os\n",
    "from sklearn import cluster\n",
    "from collections import defaultdict\n",
    "import numpy as np\n",
    "import math\n",
    "from PIL import Image, ImageDraw, ImageFilter, ImageFont\n",
    "def открыть_изображение(filename):\n",
    "    return P.Image.open(filename)\n",
    "def холст(im):\n",
    "    return P.ImageDraw.Draw(im)\n",
    "def пиксели(im):\n",
    "    return im.load()\n",
    "import datetime"
   ]
  },
  {
   "cell_type": "markdown",
   "metadata": {},
   "source": [
    "### Создаём необходимые функции для кластеризации на картинке"
   ]
  },
  {
   "cell_type": "code",
   "execution_count": 16,
   "metadata": {},
   "outputs": [],
   "source": [
    "def to_numpy(im, использовать_координаты=False):\n",
    "    d = пиксели(im)\n",
    "    w, h = im.size\n",
    "    a = np.zeros((w*h, 5 if (использовать_координаты>0) else 3))\n",
    "    for k in range(3):\n",
    "        for i in range(w):\n",
    "            for j in range(h):\n",
    "                a[j*w + i, k] = d[i, j][k]\n",
    "    if использовать_координаты > 0:\n",
    "        for i in range(w):\n",
    "            for j in range(h):\n",
    "                a[j*w + i, 3] = i*использовать_координаты\n",
    "                a[j*w + i, 4] = j*использовать_координаты\n",
    "    return a, w, h\n",
    "\n",
    "def reduce_sizeN(im, wmax, hmax):\n",
    "    if wmax <=0 or hmax <=0:\n",
    "        print(\"Invalid wmax or hmax\")\n",
    "        return\n",
    "    n = 1\n",
    "    while im.size[0]//n > wmax:\n",
    "        n += 1\n",
    "    while im.size[1]//n > hmax:\n",
    "        n += 1\n",
    "    return im.resize((im.size[0]//n, im.size[1]//n))\n",
    "\n",
    "def уменьшить_размер_до(im, wmax, hmax):\n",
    "    if wmax <=0 or hmax <=0:\n",
    "        print(\"Invalid wmax or hmax\")\n",
    "        return\n",
    "    kfact = min(1., wmax/im.size[0], hmax/im.size[1])\n",
    "    return im.resize((int(im.size[0]*kfact), int(im.size[1]*kfact)))\n",
    "\n",
    "def from_numpy(a, w, h):\n",
    "    im = P.Image.new(\"RGB\", (w, h))\n",
    "    d = холст(im)\n",
    "    for i in range(w):\n",
    "        for j in range(h):\n",
    "            d.point(tuple([i, j]), tuple(int(a[j*w + i, k]) for k in range(3)))\n",
    "    return im\n",
    "\n",
    "def arr_from_labels(cls, lbl):\n",
    "    n = np.zeros((len(lbl), cls.shape[1]))\n",
    "    for j in range(cls.shape[1]):\n",
    "        for i, v in enumerate(lbl):\n",
    "            n[i, j] = cls[v, j]\n",
    "    return n\n",
    "\n",
    "def алгоритм_к_средних(число_кластеров=16, n_jobs=8, max_iter=300):\n",
    "    km = S.cluster.KMeans(n_clusters=число_кластеров, n_jobs=n_jobs, max_iter=max_iter, algorithm=\"elkan\", copy_x=True)\n",
    "    def res(n):\n",
    "        km.fit(n)\n",
    "        return km.cluster_centers_, km.labels_\n",
    "    return res\n",
    "\n",
    "def мини_алгоритм_к_средних(число_кластеров=16, max_iter=300, bs=500):\n",
    "    km = S.cluster.MiniBatchKMeans(n_clusters=число_кластеров, batch_size=bs, max_iter=max_iter)\n",
    "    def res(n):\n",
    "        km.fit(n)\n",
    "        return km.cluster_centers_, km.labels_\n",
    "    return res\n",
    "\n",
    "def meanshift_cluster(n_jobs=6):\n",
    "    ms = S.cluster.MeanShift(n_jobs=n_jobs)\n",
    "    def res(n):\n",
    "        ms.fit(n)\n",
    "        return ms.cluster_centers_, ms.labels_\n",
    "    return res\n",
    "\n",
    "def recursive_do(cluster, level=3):\n",
    "    def res(n, l = level):\n",
    "        try:\n",
    "            cs, lb = cluster(n)\n",
    "        except Exception as e:\n",
    "            print(\"Exception: \", e)\n",
    "            return n\n",
    "        if l == 0:\n",
    "            return arr_from_labels(cs, lb)\n",
    "        n = np.array(n, copy=True)\n",
    "        for i, v in enumerate(cs):\n",
    "            idx = (lb==i)\n",
    "            nn = res(n[idx, :], l - 1)\n",
    "            try:\n",
    "                n[idx, :] = nn\n",
    "            except Exception as e:\n",
    "                print(f\"n: {n.shape}, nn: {nn.shape}\")\n",
    "        return n\n",
    "    return res\n",
    "\n",
    "def кластеризовать_цвета(im, cluster,уровень=0, использовать_координаты = 0, prefit= lambda x: x, prefit_rev= lambda x: x):\n",
    "    start = datetime.datetime.now()\n",
    "    n, w, h = to_numpy(im, использовать_координаты=использовать_координаты)\n",
    "    print(f\"[{datetime.datetime.now()-start}] Изображение конвертировано в числовой массив пикселей\")\n",
    "    nn = recursive_do(cluster, level=уровень)(prefit(n))\n",
    "    print(f\"[{datetime.datetime.now()-start}] Пиксели кластеризованы\")\n",
    "    return from_numpy(prefit_rev(nn), w, h)\n",
    "\n",
    "def все_цвета_на_картинке(im):\n",
    "    return np.unique(to_numpy(im)[0], axis=0)\n",
    "\n",
    "def увеличить(im, factor=2):\n",
    "    return im.resize((int(im.size[0]*factor), int(im.size[1]*factor)))\n",
    "\n",
    "def cadre(im, cluster, max_rlevel, использовать_координаты=1.2):\n",
    "    for i in range(max_rlevel):\n",
    "        изобразить(кластеризовать_цвета(im, cluster=cluster,уровень=i, использовать_координаты=использовать_координаты))"
   ]
  },
  {
   "cell_type": "markdown",
   "metadata": {},
   "source": [
    "### Создаём функции, необходимые для создания контурного рисунка"
   ]
  },
  {
   "cell_type": "code",
   "execution_count": 17,
   "metadata": {},
   "outputs": [],
   "source": [
    "def создать_контур(im):\n",
    "    return im.convert(\"L\").filter(ImageFilter.CONTOUR)\n",
    "\n",
    "def создать_контур2(im):\n",
    "    return im.convert(\"L\").filter(ImageFilter.FIND_EDGES)\n",
    "\n",
    "def normalize(tpl):\n",
    "    ln2 = tpl[0]*tpl[0] + tpl[1]*tpl[1] + tpl[2]*tpl[2]\n",
    "    if ln2 > 0:\n",
    "        ln = 1/math.sqrt(ln2)\n",
    "        return (tpl[0]*ln, tpl[1]*ln, tpl[2]*ln)\n",
    "    else: return (0, 0, 0)\n",
    "\n",
    "def order_color(x):\n",
    "    return 9000*x[2] + 30*x[1] + x[0]\n",
    "\n",
    "def расставить_номера(im, cont_im, grid_size=30, lim=15, font_size=10):\n",
    "    fnt = ImageFont.truetype('./font2.ttf', font_size)\n",
    "    im_new = cont_im.copy()\n",
    "    d = ImageDraw.Draw(im_new)\n",
    "    p = im.load()\n",
    "    cont_p = cont_im.load()\n",
    "    colors = defaultdict(int)\n",
    "    numbers = []\n",
    "    coords = []\n",
    "    for i in range(grid_size - 1, im.size[0], grid_size):\n",
    "        last = 0\n",
    "        for j in range(im.size[1]):\n",
    "            if cont_p[i, j] < 255:\n",
    "                if j - last >= lim:\n",
    "                    ypos = (j + last)//2\n",
    "                    coords.append((i, ypos))\n",
    "                    color = tuple(p[i, ypos])\n",
    "                    numbers.append(color)\n",
    "                    colors[color] += 1\n",
    "                last = j\n",
    "    color_map = list(sorted(colors.keys(), key=lambda x: normalize(x)))\n",
    "    for i, v in enumerate(color_map):\n",
    "        colors[v] = i + 1\n",
    "    for i, v in enumerate(coords):\n",
    "        msg = str(colors[numbers[i]])\n",
    "        w, h = d.textsize(msg)\n",
    "        d.text((v[0] - w//2, v[1] - h//2), msg, font=fnt, fill=\"black\")\n",
    "    palette = Image.new('RGB', (len(color_map), 2), (255, 255, 255))\n",
    "    pl_dr = ImageDraw.Draw(palette)\n",
    "    for i, v in enumerate(color_map):\n",
    "        pl_dr.point((i, 1), v)\n",
    "    factor=im.size[0]/len(color_map)\n",
    "    palette = увеличить(palette, factor=factor)\n",
    "    pl_dr = ImageDraw.Draw(palette)\n",
    "    fnt = ImageFont.truetype('./font.ttf', font_size*2)\n",
    "    for i, v in enumerate(color_map):\n",
    "        msg = str(i + 1)\n",
    "        w, h = d.textsize(msg)\n",
    "        pl_dr.text(((i+0.5)*factor - w//2, factor//2-h//2), msg, font=fnt, fill=\"black\")\n",
    "    return im_new, palette"
   ]
  },
  {
   "cell_type": "markdown",
   "metadata": {},
   "source": [
    "### Настраиваем папку и картинку, с которой будем работать (ПУТЬ_К_ИЗОБРАЖЕНИЮ: изменить путь на нужный)"
   ]
  },
  {
   "cell_type": "code",
   "execution_count": 18,
   "metadata": {
    "scrolled": false
   },
   "outputs": [],
   "source": [
    "ПУТЬ_К_ИЗОБРАЖЕНИЮ = \"/home/aynur/Downloads/A1.jpeg\"\n",
    "НОМЕР = 0\n",
    "\n",
    "ПАПКА = ПУТЬ_К_ИЗОБРАЖЕНИЮ.rsplit(\".\", 1)[0]\n",
    "suff = 1\n",
    "while os.path.exists(ПАПКА):\n",
    "    ПАПКА = ПАПКА.rsplit(\"--\", 1)[0] + \"--\" + str(suff)\n",
    "    suff += 1\n",
    "os.mkdir(ПАПКА)\n",
    "def НОВОЕ_НАЗВАНИЕ_КАРТИНКИ():\n",
    "    global НОМЕР\n",
    "    НОМЕР += 1\n",
    "    nm = ПАПКА + \"/\" + str(НОМЕР) + \".png\"\n",
    "    print(f\"Filename: {nm}\")\n",
    "    return nm"
   ]
  },
  {
   "cell_type": "markdown",
   "metadata": {},
   "source": [
    "### Загружаем картинку, производим размытие для удаления мелких деталей и бликов (увеличить radius для большего размытия)"
   ]
  },
  {
   "cell_type": "code",
   "execution_count": 19,
   "metadata": {
    "scrolled": false
   },
   "outputs": [
    {
     "data": {
      "image/png": "[encoded data removed]",
      "text/plain": [
       "<PIL.Image.Image image mode=RGB size=70x102 at 0x7F89BAE97630>"
      ]
     },
     "metadata": {},
     "output_type": "display_data"
    },
    {
     "name": "stdout",
     "output_type": "stream",
     "text": [
      "Количество цветов: 4985\n",
      "Filename: /home/aynur/Downloads/A1--11/1.png\n"
     ]
    },
    {
     "data": {
      "image/png": "[encoded data removed]",
      "text/plain": [
       "<PIL.Image.Image image mode=RGB size=70x102 at 0x7F89BAE9D438>"
      ]
     },
     "metadata": {},
     "output_type": "display_data"
    }
   ],
   "source": [
    "картинка= открыть_изображение(ПУТЬ_К_ИЗОБРАЖЕНИЮ)\n",
    "картинка2= уменьшить_размер_до(картинка, 70, 120)\n",
    "изобразить(картинка2)\n",
    "картинка3 = картинка2.filter(ImageFilter.MedianFilter(size=3))\n",
    "print(\"Количество цветов:\",  все_цвета_на_картинке(картинка3).shape[0])\n",
    "картинка3.save(НОВОЕ_НАЗВАНИЕ_КАРТИНКИ())\n",
    "изобразить(картинка3)"
   ]
  },
  {
   "cell_type": "markdown",
   "metadata": {},
   "source": [
    "### Кластеризуем картинку по цветам (и немного по координате: попробовать поменять использовать_координаты). \n",
    "#### Для более мелкой детализации увеличиваем число_кластеров(количество частей разбиения) иуровень(уровень разбиения)\n",
    "### Создаём контурный рисунок"
   ]
  },
  {
   "cell_type": "code",
   "execution_count": 20,
   "metadata": {
    "scrolled": false
   },
   "outputs": [
    {
     "name": "stdout",
     "output_type": "stream",
     "text": [
      "[0:00:00.024776] Изображение конвертировано в числовой массив пикселей\n",
      "[0:00:01.232526] Пиксели кластеризованы\n",
      "Filename: /home/aynur/Downloads/A1--11/2.png\n",
      "Количество цветов: 343\n"
     ]
    },
    {
     "data": {
      "image/png": "[encoded data removed]",
      "text/plain": [
       "<PIL.Image.Image image mode=RGB size=70x102 at 0x7F89BAEE5A90>"
      ]
     },
     "metadata": {},
     "output_type": "display_data"
    },
    {
     "name": "stdout",
     "output_type": "stream",
     "text": [
      "Filename: /home/aynur/Downloads/A1--11/3.png\n"
     ]
    },
    {
     "data": {
      "image/png": "[encoded data removed]",
      "text/plain": [
       "<PIL.Image.Image image mode=L size=70x102 at 0x7F89BAEE5BE0>"
      ]
     },
     "execution_count": 20,
     "metadata": {},
     "output_type": "execute_result"
    }
   ],
   "source": [
    "рисунок = кластеризовать_цвета(картинка3, cluster=мини_алгоритм_к_средних(число_кластеров=7, max_iter=30),уровень=2, использовать_координаты=0.2, prefit=lambda x: x*x, prefit_rev=lambda x: np.sqrt(x))\n",
    "рисунок.save(НОВОЕ_НАЗВАНИЕ_КАРТИНКИ())\n",
    "print(\"Количество цветов:\", все_цвета_на_картинке(рисунок).shape[0])\n",
    "изобразить(рисунок)\n",
    "контур = создать_контур(рисунок)\n",
    "контур.save(НОВОЕ_НАЗВАНИЕ_КАРТИНКИ())\n",
    "контур"
   ]
  },
  {
   "cell_type": "markdown",
   "metadata": {},
   "source": [
    "### Уменьшаем количество цветов. Для этого кластеризуем полученное изображение строго по цвету, ограничивая количество кластеров"
   ]
  },
  {
   "cell_type": "code",
   "execution_count": 21,
   "metadata": {
    "scrolled": false
   },
   "outputs": [
    {
     "name": "stdout",
     "output_type": "stream",
     "text": [
      "[0:00:00.012088] Изображение конвертировано в числовой массив пикселей\n",
      "[0:00:00.369795] Пиксели кластеризованы\n",
      "Filename: /home/aynur/Downloads/A1--11/4.png\n",
      "Количество цветов: 25\n"
     ]
    },
    {
     "data": {
      "image/png": "[encoded data removed]",
      "text/plain": [
       "<PIL.Image.Image image mode=RGB size=70x102 at 0x7F89BAEC4048>"
      ]
     },
     "metadata": {},
     "output_type": "display_data"
    },
    {
     "name": "stdout",
     "output_type": "stream",
     "text": [
      "Filename: /home/aynur/Downloads/A1--11/5.png\n"
     ]
    },
    {
     "data": {
      "image/png": "[encoded data removed]",
      "text/plain": [
       "<PIL.Image.Image image mode=L size=70x102 at 0x7F89BAE9DC18>"
      ]
     },
     "metadata": {},
     "output_type": "display_data"
    }
   ],
   "source": [
    "рисунок2 = кластеризовать_цвета(рисунок, cluster=алгоритм_к_средних(число_кластеров=25, max_iter=300),уровень=0, использовать_координаты=0)\n",
    "рисунок2.save(НОВОЕ_НАЗВАНИЕ_КАРТИНКИ())\n",
    "print(\"Количество цветов:\", все_цвета_на_картинке(рисунок2).shape[0])\n",
    "изобразить(рисунок2)\n",
    "контур2 = создать_контур(рисунок2)\n",
    "контур2.save(НОВОЕ_НАЗВАНИЕ_КАРТИНКИ())\n",
    "изобразить(контур2)"
   ]
  },
  {
   "cell_type": "markdown",
   "metadata": {},
   "source": [
    "### Увеличиваем полученные картинки для того, чтобы цифры хорошо уместились"
   ]
  },
  {
   "cell_type": "code",
   "execution_count": 22,
   "metadata": {
    "scrolled": false
   },
   "outputs": [
    {
     "name": "stdout",
     "output_type": "stream",
     "text": [
      "Filename: /home/aynur/Downloads/A1--11/6.png\n"
     ]
    },
    {
     "data": {
      "image/png": "[encoded data removed]",
      "text/plain": [
       "<PIL.Image.Image image mode=RGB size=140x204 at 0x7F89BC91E748>"
      ]
     },
     "metadata": {},
     "output_type": "display_data"
    },
    {
     "name": "stdout",
     "output_type": "stream",
     "text": [
      "Filename: /home/aynur/Downloads/A1--11/7.png\n"
     ]
    },
    {
     "data": {
      "image/png": "[encoded data removed]",
      "text/plain": [
       "<PIL.Image.Image image mode=L size=140x204 at 0x7F89BAE97208>"
      ]
     },
     "metadata": {},
     "output_type": "display_data"
    }
   ],
   "source": [
    "увеличенный_контур = увеличить(контур2, factor=2)\n",
    "увеличенный_рисунок = увеличить(рисунок2, factor=2)\n",
    "увеличенный_рисунок.save(НОВОЕ_НАЗВАНИЕ_КАРТИНКИ())\n",
    "изобразить(увеличенный_рисунок)\n",
    "увеличенный_контур.save(НОВОЕ_НАЗВАНИЕ_КАРТИНКИ())\n",
    "изобразить(увеличенный_контур)"
   ]
  },
  {
   "cell_type": "markdown",
   "metadata": {},
   "source": [
    "### Наносим цифры на контурный рисунок. Выводим палитру"
   ]
  },
  {
   "cell_type": "code",
   "execution_count": 23,
   "metadata": {
    "scrolled": false
   },
   "outputs": [
    {
     "name": "stdout",
     "output_type": "stream",
     "text": [
      "Filename: /home/aynur/Downloads/A1--11/8.png\n",
      "Filename: /home/aynur/Downloads/A1--11/9.png\n"
     ]
    },
    {
     "data": {
      "image/png": "[encoded data removed]",
      "text/plain": [
       "<PIL.Image.Image image mode=L size=140x204 at 0x7F89BAE97240>"
      ]
     },
     "metadata": {},
     "output_type": "display_data"
    },
    {
     "data": {
      "image/png": "[encoded data removed]",
      "text/plain": [
       "<PIL.Image.Image image mode=RGB size=140x31 at 0x7F89BC92C5C0>"
      ]
     },
     "metadata": {},
     "output_type": "display_data"
    }
   ],
   "source": [
    "картина_с_номерами, палитра = расставить_номера(увеличенный_рисунок, увеличенный_контур, lim=10, font_size=10, grid_size=50)\n",
    "картина_с_номерами.save(НОВОЕ_НАЗВАНИЕ_КАРТИНКИ())\n",
    "палитра.save(НОВОЕ_НАЗВАНИЕ_КАРТИНКИ())\n",
    "\n",
    "изобразить(картина_с_номерами, палитра)"
   ]
  },
  {
   "cell_type": "code",
   "execution_count": null,
   "metadata": {},
   "outputs": [],
   "source": []
  },
  {
   "cell_type": "code",
   "execution_count": null,
   "metadata": {},
   "outputs": [],
   "source": []
  }
 ],
 "metadata": {
  "kernelspec": {
   "display_name": "Python 3",
   "language": "python",
   "name": "python3"
  },
  "language_info": {
   "codemirror_mode": {
    "name": "ipython",
    "version": 3
   },
   "file_extension": ".py",
   "mimetype": "text/x-python",
   "name": "python",
   "nbconvert_exporter": "python",
   "pygments_lexer": "ipython3",
   "version": "3.7.1"
  }
 },
 "nbformat": 4,
 "nbformat_minor": 2
}
